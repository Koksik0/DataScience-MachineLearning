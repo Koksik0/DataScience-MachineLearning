{
 "cells": [
  {
   "cell_type": "markdown",
   "metadata": {},
   "source": [
    "### Today we are going to perform the simple classification of the amazon reviews' sentiment.\n",
    "\n",
    "### Please, download the dataset amazon_baby.csv."
   ]
  },
  {
   "cell_type": "code",
   "execution_count": 28,
   "metadata": {},
   "outputs": [
    {
     "data": {
      "text/html": [
       "<div>\n",
       "<style scoped>\n",
       "    .dataframe tbody tr th:only-of-type {\n",
       "        vertical-align: middle;\n",
       "    }\n",
       "\n",
       "    .dataframe tbody tr th {\n",
       "        vertical-align: top;\n",
       "    }\n",
       "\n",
       "    .dataframe thead th {\n",
       "        text-align: right;\n",
       "    }\n",
       "</style>\n",
       "<table border=\"1\" class=\"dataframe\">\n",
       "  <thead>\n",
       "    <tr style=\"text-align: right;\">\n",
       "      <th></th>\n",
       "      <th>name</th>\n",
       "      <th>review</th>\n",
       "      <th>rating</th>\n",
       "    </tr>\n",
       "  </thead>\n",
       "  <tbody>\n",
       "    <tr>\n",
       "      <th>0</th>\n",
       "      <td>Planetwise Flannel Wipes</td>\n",
       "      <td>These flannel wipes are OK, but in my opinion ...</td>\n",
       "      <td>3</td>\n",
       "    </tr>\n",
       "    <tr>\n",
       "      <th>1</th>\n",
       "      <td>Planetwise Wipe Pouch</td>\n",
       "      <td>it came early and was not disappointed. i love...</td>\n",
       "      <td>5</td>\n",
       "    </tr>\n",
       "    <tr>\n",
       "      <th>2</th>\n",
       "      <td>Annas Dream Full Quilt with 2 Shams</td>\n",
       "      <td>Very soft and comfortable and warmer than it l...</td>\n",
       "      <td>5</td>\n",
       "    </tr>\n",
       "    <tr>\n",
       "      <th>3</th>\n",
       "      <td>Stop Pacifier Sucking without tears with Thumb...</td>\n",
       "      <td>This is a product well worth the purchase.  I ...</td>\n",
       "      <td>5</td>\n",
       "    </tr>\n",
       "    <tr>\n",
       "      <th>4</th>\n",
       "      <td>Stop Pacifier Sucking without tears with Thumb...</td>\n",
       "      <td>All of my kids have cried non-stop when I trie...</td>\n",
       "      <td>5</td>\n",
       "    </tr>\n",
       "  </tbody>\n",
       "</table>\n",
       "</div>"
      ],
      "text/plain": [
       "                                                name  \\\n",
       "0                           Planetwise Flannel Wipes   \n",
       "1                              Planetwise Wipe Pouch   \n",
       "2                Annas Dream Full Quilt with 2 Shams   \n",
       "3  Stop Pacifier Sucking without tears with Thumb...   \n",
       "4  Stop Pacifier Sucking without tears with Thumb...   \n",
       "\n",
       "                                              review  rating  \n",
       "0  These flannel wipes are OK, but in my opinion ...       3  \n",
       "1  it came early and was not disappointed. i love...       5  \n",
       "2  Very soft and comfortable and warmer than it l...       5  \n",
       "3  This is a product well worth the purchase.  I ...       5  \n",
       "4  All of my kids have cried non-stop when I trie...       5  "
      ]
     },
     "execution_count": 28,
     "metadata": {},
     "output_type": "execute_result"
    }
   ],
   "source": [
    "import pandas as pd\n",
    "import numpy as np\n",
    "import matplotlib.pyplot as plt\n",
    "import string\n",
    "from sklearn.linear_model import LogisticRegression\n",
    "\n",
    "def remove_punctuation(text):\n",
    "    import string\n",
    "    translator = str.maketrans('', '', string.punctuation)\n",
    "    return text.translate(translator)\n",
    "\n",
    "baby_df = pd.read_csv('amazon_baby.csv')\n",
    "baby_df.head()"
   ]
  },
  {
   "cell_type": "markdown",
   "metadata": {},
   "source": [
    "## Exercise 1 (data preparation)\n",
    "a) Remove punctuation from reviews using the given function.   \n",
    "b) Replace all missing (nan) revies with empty \"\" string.  \n",
    "c) Drop all the entries with rating = 3, as they have neutral sentiment.   \n",
    "d) Set all positive ($\\geq$4) ratings to 1 and negative($\\leq$2) to -1."
   ]
  },
  {
   "cell_type": "code",
   "execution_count": 29,
   "metadata": {},
   "outputs": [
    {
     "data": {
      "text/plain": [
       "True"
      ]
     },
     "execution_count": 29,
     "metadata": {},
     "output_type": "execute_result"
    }
   ],
   "source": [
    "#a)\n",
    "baby_df['review'] = baby_df['review'].apply(lambda x: remove_punctuation(x) if isinstance(x, str) else x)\n",
    "#short test: \n",
    "baby_df[\"review\"][4] == 'All of my kids have cried nonstop when I tried to ween them off their pacifier until I found Thumbuddy To Loves Binky Fairy Puppet  It is an easy way to work with your kids to allow them to understand where their pacifier is going and help them part from itThis is a must buy book and a great gift for expecting parents  You will save them soo many headachesThanks for this book  You all rock'\n",
    "remove_punctuation(baby_df[\"review\"][4]) == 'All of my kids have cried nonstop when I tried to ween them off their pacifier until I found Thumbuddy To Loves Binky Fairy Puppet  It is an easy way to work with your kids to allow them to understand where their pacifier is going and help them part from itThis is a must buy book and a great gift for expecting parents  You will save them soo many headachesThanks for this book  You all rock'"
   ]
  },
  {
   "cell_type": "code",
   "execution_count": 30,
   "metadata": {},
   "outputs": [
    {
     "name": "stdout",
     "output_type": "stream",
     "text": [
      "nan\n"
     ]
    },
    {
     "data": {
      "text/plain": [
       "''"
      ]
     },
     "execution_count": 30,
     "metadata": {},
     "output_type": "execute_result"
    }
   ],
   "source": [
    "#b)\n",
    "print(baby_df[\"review\"][38])\n",
    "baby_df['review'] = baby_df['review'].fillna(\"\")\n",
    "#short test:\n",
    "baby_df[\"review\"][38]"
   ]
  },
  {
   "cell_type": "code",
   "execution_count": 31,
   "metadata": {},
   "outputs": [
    {
     "data": {
      "text/plain": [
       "0"
      ]
     },
     "execution_count": 31,
     "metadata": {},
     "output_type": "execute_result"
    }
   ],
   "source": [
    "#c)\n",
    "baby_df = baby_df[baby_df['rating'] != 3]\n",
    "#short test:\n",
    "sum(baby_df[\"rating\"] == 3)"
   ]
  },
  {
   "cell_type": "code",
   "execution_count": 32,
   "metadata": {},
   "outputs": [
    {
     "data": {
      "text/plain": [
       "array([ 1, -1])"
      ]
     },
     "execution_count": 32,
     "metadata": {},
     "output_type": "execute_result"
    }
   ],
   "source": [
    "#d) \n",
    "baby_df['rating'] = baby_df['rating'].apply(lambda x: 1 if x >= 4 else -1)\n",
    "#short test:\n",
    "sum(baby_df[\"rating\"]**2 != 1)\n",
    "baby_df['rating'].unique()"
   ]
  },
  {
   "cell_type": "markdown",
   "metadata": {},
   "source": [
    "#### I removed all the rows that had a rating of 3 and reranked the rest as per point d)"
   ]
  },
  {
   "cell_type": "markdown",
   "metadata": {},
   "source": [
    "## CountVectorizer\n",
    "In order to analyze strings, we need to assign them numerical values. We will use one of the simplest string representation, which transforms strings into the $n$ dimensional vectors. The number of dimensions will be the size of our dictionary, and then the values of the vector will represent the number of appereances of the given word in the sentence."
   ]
  },
  {
   "cell_type": "code",
   "execution_count": 33,
   "metadata": {},
   "outputs": [
    {
     "name": "stdout",
     "output_type": "stream",
     "text": [
      "['adore' 'and' 'apples' 'bananas' 'dislike' 'hate' 'like' 'oranges' 'they'\n",
      " 'we']\n",
      "[[0 0 1 0 0 0 1 0 0 1]\n",
      " [0 0 0 0 0 1 0 1 0 1]\n",
      " [1 0 0 1 0 0 0 0 0 0]\n",
      " [0 1 1 0 0 0 2 1 0 1]\n",
      " [0 0 0 1 1 0 0 0 1 0]]\n"
     ]
    }
   ],
   "source": [
    "from sklearn.feature_extraction.text import CountVectorizer\n",
    "\n",
    "vectorizer = CountVectorizer()\n",
    "reviews_train_example = [\"We like apples\",\n",
    "                   \"We hate oranges\",\n",
    "                   \"I adore bananas\",\n",
    "                   \"We like like apples and oranges\",\n",
    "                   \"They dislike bananas\"]\n",
    "\n",
    "X_train_example = vectorizer.fit_transform(reviews_train_example)\n",
    "\n",
    "print(vectorizer.get_feature_names_out())\n",
    "print(X_train_example.todense())\n",
    "\n"
   ]
  },
  {
   "cell_type": "code",
   "execution_count": 34,
   "metadata": {},
   "outputs": [
    {
     "name": "stdout",
     "output_type": "stream",
     "text": [
      "[[0 0 0 1 0 0 1 0 1 0]\n",
      " [0 1 1 1 0 1 0 1 0 1]\n",
      " [0 0 0 1 0 0 0 0 0 1]]\n"
     ]
    }
   ],
   "source": [
    "reviews_test_example = [\"They like bananas\",\n",
    "                   \"We hate oranges bananas and apples\",\n",
    "                   \"We love bananas\"] #New word!\n",
    "\n",
    "X_test_example = vectorizer.transform(reviews_test_example)\n",
    "\n",
    "print(X_test_example.todense())"
   ]
  },
  {
   "cell_type": "markdown",
   "metadata": {},
   "source": [
    "We should acknowledge few facts. Firstly, CountVectorizer does not take order into account. Secondly, it ignores one-letter words (this can be changed during initialization). Finally, for test values, CountVectorizer ignores words which are not in it's dictionary."
   ]
  },
  {
   "cell_type": "markdown",
   "metadata": {},
   "source": [
    "## Exercise 2 \n",
    "a) Split dataset into training and test sets.     \n",
    "b) Transform reviews into vectors using CountVectorizer. "
   ]
  },
  {
   "cell_type": "code",
   "execution_count": 35,
   "metadata": {},
   "outputs": [],
   "source": [
    "from sklearn.model_selection import train_test_split\n",
    "Train, Test = train_test_split(baby_df, test_size=0.2)"
   ]
  },
  {
   "cell_type": "code",
   "execution_count": 36,
   "metadata": {},
   "outputs": [],
   "source": [
    "#b)\n",
    "vectorizer = CountVectorizer()\n",
    "X_train = vectorizer.fit_transform(list(Train['review']))\n",
    "y_train = Train[\"rating\"]\n",
    "X_test = vectorizer.transform(list(Test['review']))\n",
    "y_test = Test[\"rating\"]"
   ]
  },
  {
   "cell_type": "markdown",
   "metadata": {},
   "source": [
    "#### In this task, I divided the set into training and test data, and converted the set of words into arrays of numbers"
   ]
  },
  {
   "cell_type": "markdown",
   "metadata": {},
   "source": [
    "## Exercise 3 \n",
    "a) Train LogisticRegression model on training data (reviews processed with CountVectorizer, ratings as they were).   \n",
    "b) Print 10 most positive and 10 most negative words."
   ]
  },
  {
   "cell_type": "code",
   "execution_count": 37,
   "metadata": {},
   "outputs": [
    {
     "name": "stderr",
     "output_type": "stream",
     "text": [
      "/home/pawel/.local/lib/python3.10/site-packages/sklearn/linear_model/_logistic.py:460: ConvergenceWarning: lbfgs failed to converge (status=1):\n",
      "STOP: TOTAL NO. of ITERATIONS REACHED LIMIT.\n",
      "\n",
      "Increase the number of iterations (max_iter) or scale the data as shown in:\n",
      "    https://scikit-learn.org/stable/modules/preprocessing.html\n",
      "Please also refer to the documentation for alternative solver options:\n",
      "    https://scikit-learn.org/stable/modules/linear_model.html#logistic-regression\n",
      "  n_iter_i = _check_optimize_result(\n"
     ]
    },
    {
     "data": {
      "text/html": [
       "<style>#sk-container-id-2 {color: black;}#sk-container-id-2 pre{padding: 0;}#sk-container-id-2 div.sk-toggleable {background-color: white;}#sk-container-id-2 label.sk-toggleable__label {cursor: pointer;display: block;width: 100%;margin-bottom: 0;padding: 0.3em;box-sizing: border-box;text-align: center;}#sk-container-id-2 label.sk-toggleable__label-arrow:before {content: \"▸\";float: left;margin-right: 0.25em;color: #696969;}#sk-container-id-2 label.sk-toggleable__label-arrow:hover:before {color: black;}#sk-container-id-2 div.sk-estimator:hover label.sk-toggleable__label-arrow:before {color: black;}#sk-container-id-2 div.sk-toggleable__content {max-height: 0;max-width: 0;overflow: hidden;text-align: left;background-color: #f0f8ff;}#sk-container-id-2 div.sk-toggleable__content pre {margin: 0.2em;color: black;border-radius: 0.25em;background-color: #f0f8ff;}#sk-container-id-2 input.sk-toggleable__control:checked~div.sk-toggleable__content {max-height: 200px;max-width: 100%;overflow: auto;}#sk-container-id-2 input.sk-toggleable__control:checked~label.sk-toggleable__label-arrow:before {content: \"▾\";}#sk-container-id-2 div.sk-estimator input.sk-toggleable__control:checked~label.sk-toggleable__label {background-color: #d4ebff;}#sk-container-id-2 div.sk-label input.sk-toggleable__control:checked~label.sk-toggleable__label {background-color: #d4ebff;}#sk-container-id-2 input.sk-hidden--visually {border: 0;clip: rect(1px 1px 1px 1px);clip: rect(1px, 1px, 1px, 1px);height: 1px;margin: -1px;overflow: hidden;padding: 0;position: absolute;width: 1px;}#sk-container-id-2 div.sk-estimator {font-family: monospace;background-color: #f0f8ff;border: 1px dotted black;border-radius: 0.25em;box-sizing: border-box;margin-bottom: 0.5em;}#sk-container-id-2 div.sk-estimator:hover {background-color: #d4ebff;}#sk-container-id-2 div.sk-parallel-item::after {content: \"\";width: 100%;border-bottom: 1px solid gray;flex-grow: 1;}#sk-container-id-2 div.sk-label:hover label.sk-toggleable__label {background-color: #d4ebff;}#sk-container-id-2 div.sk-serial::before {content: \"\";position: absolute;border-left: 1px solid gray;box-sizing: border-box;top: 0;bottom: 0;left: 50%;z-index: 0;}#sk-container-id-2 div.sk-serial {display: flex;flex-direction: column;align-items: center;background-color: white;padding-right: 0.2em;padding-left: 0.2em;position: relative;}#sk-container-id-2 div.sk-item {position: relative;z-index: 1;}#sk-container-id-2 div.sk-parallel {display: flex;align-items: stretch;justify-content: center;background-color: white;position: relative;}#sk-container-id-2 div.sk-item::before, #sk-container-id-2 div.sk-parallel-item::before {content: \"\";position: absolute;border-left: 1px solid gray;box-sizing: border-box;top: 0;bottom: 0;left: 50%;z-index: -1;}#sk-container-id-2 div.sk-parallel-item {display: flex;flex-direction: column;z-index: 1;position: relative;background-color: white;}#sk-container-id-2 div.sk-parallel-item:first-child::after {align-self: flex-end;width: 50%;}#sk-container-id-2 div.sk-parallel-item:last-child::after {align-self: flex-start;width: 50%;}#sk-container-id-2 div.sk-parallel-item:only-child::after {width: 0;}#sk-container-id-2 div.sk-dashed-wrapped {border: 1px dashed gray;margin: 0 0.4em 0.5em 0.4em;box-sizing: border-box;padding-bottom: 0.4em;background-color: white;}#sk-container-id-2 div.sk-label label {font-family: monospace;font-weight: bold;display: inline-block;line-height: 1.2em;}#sk-container-id-2 div.sk-label-container {text-align: center;}#sk-container-id-2 div.sk-container {/* jupyter's `normalize.less` sets `[hidden] { display: none; }` but bootstrap.min.css set `[hidden] { display: none !important; }` so we also need the `!important` here to be able to override the default hidden behavior on the sphinx rendered scikit-learn.org. See: https://github.com/scikit-learn/scikit-learn/issues/21755 */display: inline-block !important;position: relative;}#sk-container-id-2 div.sk-text-repr-fallback {display: none;}</style><div id=\"sk-container-id-2\" class=\"sk-top-container\"><div class=\"sk-text-repr-fallback\"><pre>LogisticRegression(max_iter=50)</pre><b>In a Jupyter environment, please rerun this cell to show the HTML representation or trust the notebook. <br />On GitHub, the HTML representation is unable to render, please try loading this page with nbviewer.org.</b></div><div class=\"sk-container\" hidden><div class=\"sk-item\"><div class=\"sk-estimator sk-toggleable\"><input class=\"sk-toggleable__control sk-hidden--visually\" id=\"sk-estimator-id-2\" type=\"checkbox\" checked><label for=\"sk-estimator-id-2\" class=\"sk-toggleable__label sk-toggleable__label-arrow\">LogisticRegression</label><div class=\"sk-toggleable__content\"><pre>LogisticRegression(max_iter=50)</pre></div></div></div></div></div>"
      ],
      "text/plain": [
       "LogisticRegression(max_iter=50)"
      ]
     },
     "execution_count": 37,
     "metadata": {},
     "output_type": "execute_result"
    }
   ],
   "source": [
    "#a)\n",
    "model = LogisticRegression(max_iter=50)\n",
    "model.fit(X_train, y_train)"
   ]
  },
  {
   "cell_type": "code",
   "execution_count": 38,
   "metadata": {},
   "outputs": [
    {
     "name": "stdout",
     "output_type": "stream",
     "text": [
      "10 najbardziej pozytywnych słów:\n",
      "perfectly: 1.9535787357866645\n",
      "glad: 1.8834263255859534\n",
      "highly: 1.8719155500856872\n",
      "pleased: 1.8560705729179956\n",
      "perfect: 1.7978266647846062\n",
      "excellent: 1.7595556191821333\n",
      "awesome: 1.7521802752976288\n",
      "exactly: 1.6667605522079887\n",
      "love: 1.6041593420682658\n",
      "loves: 1.5686527011338085\n",
      "\n",
      "10 najbardziej negatywnych słów:\n",
      "returned: -2.492845935682586\n",
      "poor: -2.3200229772736263\n",
      "returning: -2.308139063037786\n",
      "disappointed: -2.259339387902345\n",
      "waste: -2.1490829164879237\n",
      "useless: -2.073698316502393\n",
      "worst: -2.060851187080608\n",
      "terrible: -2.008043163531774\n",
      "disappointing: -1.8333656517880446\n",
      "horrible: -1.7350224463531352\n"
     ]
    }
   ],
   "source": [
    "coefficients = model.coef_[0]\n",
    "feature_names = vectorizer.get_feature_names_out()\n",
    "coef_dict = dict(zip(feature_names, coefficients))\n",
    "sorted_coef = sorted(coef_dict.items(), key=lambda x: x[1])\n",
    "print(\"10 najbardziej pozytywnych słów:\")\n",
    "for word, coef in sorted_coef[-10:][::-1]:\n",
    "    print(f\"{word}: {coef}\")\n",
    "\n",
    "print(\"\\n10 najbardziej negatywnych słów:\")\n",
    "for word, coef in sorted_coef[:10]:\n",
    "    print(f\"{word}: {coef}\")"
   ]
  },
  {
   "cell_type": "markdown",
   "metadata": {},
   "source": [
    "#### I created a logistic regression model that learns how to recognize good and bad reviews based on training data. Then I wrote down the 10 most positive words and the 10 most negative words."
   ]
  },
  {
   "cell_type": "markdown",
   "metadata": {},
   "source": [
    "## Exercise 4 \n",
    "a) Predict the sentiment of test data reviews.   \n",
    "b) Predict the sentiment of test data reviews in terms of probability.   \n",
    "c) Find five most positive and most negative reviews.   \n",
    "d) Calculate the accuracy of predictions."
   ]
  },
  {
   "cell_type": "code",
   "execution_count": 39,
   "metadata": {},
   "outputs": [
    {
     "data": {
      "text/plain": [
       "array([1, 1, 1, ..., 1, 1, 1])"
      ]
     },
     "execution_count": 39,
     "metadata": {},
     "output_type": "execute_result"
    }
   ],
   "source": [
    "#a)\n",
    "y_pred = model.predict(X_test)\n",
    "y_pred"
   ]
  },
  {
   "cell_type": "code",
   "execution_count": 40,
   "metadata": {},
   "outputs": [
    {
     "data": {
      "text/plain": [
       "array([[7.20999242e-04, 9.99279001e-01],\n",
       "       [3.20389469e-04, 9.99679611e-01],\n",
       "       [8.40631819e-03, 9.91593682e-01],\n",
       "       ...,\n",
       "       [2.87506058e-03, 9.97124939e-01],\n",
       "       [2.55734897e-03, 9.97442651e-01],\n",
       "       [5.17799311e-03, 9.94822007e-01]])"
      ]
     },
     "execution_count": 40,
     "metadata": {},
     "output_type": "execute_result"
    }
   ],
   "source": [
    "#b)\n",
    "y_pred_proba = model.predict_proba(X_test)\n",
    "y_pred_proba\n",
    "#hint: model.predict_proba()"
   ]
  },
  {
   "cell_type": "code",
   "execution_count": 41,
   "metadata": {},
   "outputs": [
    {
     "name": "stdout",
     "output_type": "stream",
     "text": [
      "Positive \n",
      ":  I bought this seat for my tall 38in and thin 28lb 2 year old daughter I was impressed with the height the seat allowed for given that my child will out grow a seat in height long before weight I needed a seat that would fit in a 2012 Focus and was FAA cerified The seat is very compact It was easy to install using the seat belt and the latch Since the seat is so compact I had enough room to get in the car and put my knee in the seat to help get a solid install I was able to do this myself in just a few minutes even in an airport parking lotMy kiddo loved the purple color That particular color is a micro suede type fabric that is super easy to clean The wings support her head well when she is sleeping She can climb in and out of the seat very easily since it is much shorter in rise than her old seat an Evenflo Symphony The clips are all great quality and the shoulder pads are nice and soft She feels less boxed in sitting in this seat She loves that she can reach things if she drops them next to her seatI used this seat for air travel shortly after purchase I found it fairly simple to deal with I am a 55 woman with a broader frame I travelled by myself with two kiddos 2 and 8 years We did not check anything we carried all our luggage on So that fact that this seat can be carried like a backpack was very helpfulSome tips for air travel with this seatGet two 2 carry straps for the seat so you can wear it as a backpack This makes the weight easier to bare is better for your back and keeps your hands freeHave rubber bands handy to roll up extra strap length The latch straps are very long and can get in the way when trying to install on the planeProsCompactEasy to install FF I have not used it RFEasy to cleanWeight and Height limitsMulitple up to 4 cup holders can be usedEasy to carry as a backpack for travelCupholders can be removed and washed in the dishwasher if they get ickyConsHeavyCup holders can be removed by child This has never bothered mePriceyOverall this is an awesome seat Id recommend it to all that can afford itDiono Radian RXT vs Britax Frontier 85If youre like me your decision has probably come down to these two seats My daughter rides in both seats I have the Radian in my vehicle 2012 Focus hatchback My husband has the Frontier in his vehicle 2009 Vibe She is equally happy with bith seatsMy husband and I are pleased with both seats We have likes and dislikes for each Ill try to give a good comparisionSeat installationThe Frontier wins here simply because it is lighterBoth seats were super easy to install in either car The bothe all install well in our 2005 Trailblazer on the odd occassion we use that car I have never in stalled the Radian RF so I can not comment on that We use th latch system on both seats I have also used the belt paths when using in other peoples cars Belt path installation is also easy The Radian is much heavier than the Frontier making it more difficult to liftSeat MaitenanceHere I feel the Radian winsThe cover on the Radian is machine washable and is easily removed The cover is one piece The straps do have to be unthreaded to remove the cover The cup holders can be put in the dishwasherThe cover on the Frontier is supposed to be handwashed not machine washable Seriously hand wash something my kid vomited on Anyway my washing machine has a handwash cycle so I used that It turned out fine Britax sells the cover for 80 The cup holders are intergrated into the seat so you have to wipe them outSeat adjustmentsIts a tie Both seats have to be completely remove from the car to make adjustmentsThe Radian has straps that need to be rethreaded to adjust But its super easy The crotch strap is easier to move than the Frontier But the head wings can be a pain I have to put my knee in the seat and apply a lot of force to move them But this means the stay in place once adjusted When putting a kiddo in the seat the ratchet mechanism to tighten the straps can be annoying My husband does not care for itThe Frontier has a mechanism on the back that moves the straps and head rest up and dowm But the adjuster is the piece I always seem to grab when picking up the seat causing the straps to move I then have to wrangle my daughter to sit in it so I can adjust the straps again Sort of annoying Once she is in the seat adjustments are easy But we didnt like the HUGS They made her sweat under them so we took them offSeat sizeThe Radian is much narrower than the Britax This could make a big difference if you want to fit 3 across a back seat or have a tiny car Otherwise It does not matterTravelI have only used the Radian for air travel It is easier to bring into an airport hands down I wouldnt even consider air travel with the FrontierAll in all either seat is a good pick It will just depend on your needs I have found I really like them both and would recommend them equally\n",
      "\n",
      " Negative:  My disappointment with this product prompted me to write to the manufacturer  Below is my correspondenceIm writing you this email to express my deep dissatisfaction with a recently purchased Graco productMy wife and I are new parents and as expected the Graco brand was quite heavily represented on many items that expectant parents needAmong other things we purchased a Graco car seat extra seat base and a Pack and PlayAt this point our daughter is only a week old the car seat has seen limited use but the Pack and Play has already been put through some paces and it is this product that I am writing to you aboutThe model we purchased was the Pack n Play Dempsey  The main reasons we chose this model were the designcolor and the fact that it had a changing table  The additional storage seemed to be a nice feature thought not something that we will probably use at this point and as it disappears when not used as a bassinet it has limited usefulnessI have quite a few reasons to be dissatisfied with this product but by far the biggest disappointment is the changing tableThe design flaws with the changing table are glaring  It is supported only on one side leaving the other side to hang across the bassinetplayard with nothing to brace it  Our daughter who is just barely 8 pounds places enough weight on the table that it dips down on the unbraced side causing her to roll over on the side  Even if placing her as far as possible over to the braced side even a few pounds of weight over the center of the table will cause it to slant and thus cause a baby to roll over to their side  As you can imagine trying to change a baby on a device like this is akin to placing them on a slide or ramp  it is not conducive  Furthermore I dont believe it to be safe as newborns do not have full control or strength in their necks and this table causes their bodies to slant underneath them  causing them to contort in uncomfortable and possibly dangerous waysYour website states that this changing table is to be used by babies up to 25 lbs  I cant possibly imagine how a child that large wouldnt cause the table to dip at even more dangerous angles  Reviewers at Babies R Us which unfortunately I didnt consult until after this product was purchased and assembled state that children as small as 5 lbs experience these same issues  In fact out of 43 reviews at the Babies R Us site almost every other one speaks of issues that people have found with this table  The overall review as of this writing is 33 out of 5 stars which equates to 67  I wouldnt expect my daughter to bring home grades like that once she enters school  and you should find such ratings for your products absolutely unacceptableWhat is even more disappointing is that this could have easily been averted had the table been given a similar design on both sides  A couple inches of plastic leg support on the floating side of the table could have braced it against the frame and completely avoided this issue  How could something like this even have made it past your design and quality control divisionsWhile the changing table situation is enough to sour me on this product I must also mention briefly some other problems with the productThe small sound machine that comes with this model plays at such a low volume that you can legitimately not hear here it in all but the quietest room  Standing 3 feet from the crib the sound couldnt be heard over a lower than normal conversational tone  While I understand there could be safety issues from glaring sounds this device errs way to far on the side of caution to be unusable  We have plenty of other noise making baby toys which dont suffer from these issues  If the baby is quiet enough to be able to hear these sounds they are most likely already asleep in a quiet room and dont need to be soothedI was also very surprised that the mobile was not electric  While your site does not specifically state the Babies R Us site which I have no doubt Graco writes andor approves the copy states as a feature Electronics module and mobile  This misleading combination of the two features infers that the mobile is indeed electronic and therefore would move of its own power  Not only does the mobile not move on its own its design is such that spinning it by hand causes it to move around maybe on 34 revolutions 23 seconds before the friction of its design causes it to stop  It is also placed at such a level that it would never be reachable at all by a child to play with or spin on its own perhaps from a safety issue that is best  So instead of a functional mobile what the child gets is the opportunity to stare at the feet of a few stationary turtlesWhile not incredible difficult to assemble the included instructions are poorly designed at best and misleading of incorrect at worst  I probably could have assembled the device in shorter order without referring to the instructions  For example why instruct the installation of the mattress in the bottom of the unit and then go back to instruct that it must be removed in order to configure the bassinet  Wont most people be assembling and using this as a bassinet first until their child grows into the playardI also find the advertising of these products as portable pack and plays a little absurd  While you can certainly collapse them to a smaller size the ability to fit them back into their original carriers is not an easy affair  Forget about trying to disassemble the accessories  snapping apart the mobile or attempting to remove the metal frame from the changing table fabric would certainly cause damage to these parts after several times  Additionally while my wife certainly is getting better muscle tone carting around a new child your prevalent advertisements with the mother toting the collapsed playard in one hand as if it were an empty picnic basket is patently absurdUnfortunately these last few complaints about the model seem to be inherent in most all of your Pack n Play models and as such I dont believe that returning this Dempsey model for another Graco playard would really make much of a difference  I suppose I could trade it for a cheaper model with no storage or changing table but the time and effort involved isnt worth the 6075 that would be saved  To be honest I am surprised based on the quality of this product that Graco has established such a reputation and large market share in the playard departmentI certainly wont be recommending these products in the future  Additionally I will be placing this review on both Amazon and the Babies R Us website  I invite you to answer these concerns at least in those forums should you choose not to respond to them hereThank you for your time but no thank you for the productSincerelyA Disappointed Customer\n"
     ]
    }
   ],
   "source": [
    "#c) \n",
    "print(\"Positive \\n: \", Test.iloc[y_pred_proba.T[1].argmax()][\"review\"])\n",
    "print(\"\\n Negative: \", Test.iloc[y_pred_proba.T[0].argmax()][\"review\"])\n",
    "#hint: use the results of b)"
   ]
  },
  {
   "cell_type": "code",
   "execution_count": 42,
   "metadata": {},
   "outputs": [
    {
     "data": {
      "text/plain": [
       "0.9289676471470121"
      ]
     },
     "execution_count": 42,
     "metadata": {},
     "output_type": "execute_result"
    }
   ],
   "source": [
    "#d) \n",
    "model.score(X_test, y_test)"
   ]
  },
  {
   "cell_type": "code",
   "execution_count": 43,
   "metadata": {},
   "outputs": [],
   "source": [
    "temp_X_test = X_test"
   ]
  },
  {
   "cell_type": "markdown",
   "metadata": {},
   "source": [
    "#### In this task, I predicted the sentiment of test data reviews and propability of the sentiment. I also printed score basen on test data."
   ]
  },
  {
   "cell_type": "markdown",
   "metadata": {},
   "source": [
    "## Exercise 5\n",
    "In this exercise we will limit the dictionary of CountVectorizer to the set of significant words, defined below.\n",
    "\n",
    "\n",
    "a) Redo exercises 2-5 using limited dictionary.   \n",
    "b) Check the impact of all the words from the dictionary.   \n",
    "c) Compare accuracy of predictions and the time of evaluation."
   ]
  },
  {
   "cell_type": "code",
   "execution_count": 44,
   "metadata": {},
   "outputs": [],
   "source": [
    "significant_words = ['love','great','easy','old','little','perfect','loves','well','able','car','broke','less','even','waste','disappointed','work','product','money','would','return']"
   ]
  },
  {
   "cell_type": "code",
   "execution_count": 45,
   "metadata": {},
   "outputs": [],
   "source": [
    "#a)\n",
    "vectorizer = CountVectorizer(vocabulary=significant_words)\n",
    "\n",
    "X_train = vectorizer.fit_transform(list(Train['review']))\n",
    "y_train = Train[\"rating\"]\n",
    "X_test = vectorizer.transform(list(Test['review']))\n",
    "y_test = Test[\"rating\"]"
   ]
  },
  {
   "cell_type": "code",
   "execution_count": 46,
   "metadata": {},
   "outputs": [
    {
     "name": "stdout",
     "output_type": "stream",
     "text": [
      "10 najbardziej pozytywnych słów:\n",
      "loves: 1.706828037752739\n",
      "perfect: 1.521129431612671\n",
      "love: 1.3439075578970332\n",
      "easy: 1.2021338040291283\n",
      "great: 0.9329650494541082\n",
      "well: 0.5133242090864254\n",
      "little: 0.5090150069761615\n",
      "able: 0.2222710410010122\n",
      "old: 0.08777808125498429\n",
      "car: 0.05890451947624577\n",
      "\n",
      "10 najbardziej negatywnych słów:\n",
      "disappointed: -2.3258132820958752\n",
      "return: -2.0484741492654397\n",
      "waste: -2.0302995245571056\n",
      "broke: -1.7132976788988898\n",
      "money: -0.9319705214499334\n",
      "work: -0.625601827406585\n",
      "even: -0.5448820509860358\n",
      "would: -0.34233393217065655\n",
      "product: -0.31062280211003035\n",
      "less: -0.17304222733066404\n"
     ]
    }
   ],
   "source": [
    "model2 = LogisticRegression(max_iter=50)\n",
    "model2.fit(X_train, y_train)\n",
    "coefficients = model2.coef_[0]\n",
    "feature_names = vectorizer.get_feature_names_out()\n",
    "coef_dict = dict(zip(feature_names, coefficients))\n",
    "sorted_coef = sorted(coef_dict.items(), key=lambda x: x[1])\n",
    "print(\"10 najbardziej pozytywnych słów:\")\n",
    "for word, coef in sorted_coef[-10:][::-1]:\n",
    "    print(f\"{word}: {coef}\")\n",
    "\n",
    "print(\"\\n10 najbardziej negatywnych słów:\")\n",
    "for word, coef in sorted_coef[:10]:\n",
    "    print(f\"{word}: {coef}\")"
   ]
  },
  {
   "cell_type": "code",
   "execution_count": 47,
   "metadata": {},
   "outputs": [
    {
     "data": {
      "text/plain": [
       "array([1, 1, 1, ..., 1, 1, 1])"
      ]
     },
     "execution_count": 47,
     "metadata": {},
     "output_type": "execute_result"
    }
   ],
   "source": [
    "y_pred = model2.predict(X_test)\n",
    "y_pred"
   ]
  },
  {
   "cell_type": "code",
   "execution_count": 48,
   "metadata": {},
   "outputs": [
    {
     "data": {
      "text/plain": [
       "array([[0.01352711, 0.98647289],\n",
       "       [0.06670452, 0.93329548],\n",
       "       [0.02304548, 0.97695452],\n",
       "       ...,\n",
       "       [0.06670452, 0.93329548],\n",
       "       [0.20063672, 0.79936328],\n",
       "       [0.01350256, 0.98649744]])"
      ]
     },
     "execution_count": 48,
     "metadata": {},
     "output_type": "execute_result"
    }
   ],
   "source": [
    "y_pred_proba = model2.predict_proba(X_test)\n",
    "y_pred_proba"
   ]
  },
  {
   "cell_type": "code",
   "execution_count": 49,
   "metadata": {},
   "outputs": [
    {
     "name": "stdout",
     "output_type": "stream",
     "text": [
      "most positive:  Ive posted an UPDATE at the endFirst let me state that I have been buying products from Amazon for the past 12 years  I love Amazon  I love the reviews because they have always played a part sometimes more sometimes less in the products I decide to purchase  For some reason I have never left a review I know  Until now  I feel such an urge to express how much my husband and I love this strollerMy first son will turn 7 next month  We purchased an Evenflo strollercar seat travel system for him in 2005  We hated it  We used the car seat but never EVER used the stroller  It was big bulky heavy and a pain in the rear  I think my husband hated it even more than I did  I wore my first son everywhere instead of putting him in a stroller  Fast forward to 6 years later and we have our second son in September of 2011  I researched for months  I wanted to find a stroller that had several qualities  Looks  As shallow as it may seem I wanted a stroller that wasnt ugly  I wasnt interested in any fancy or cutesy designs on the fabric  I wanted simple and sleek  I wanted something that my husband would not mind pushing around either  Weight  I wanted something that was not super heavy  QualityDurability  I was looking for something that would hold up through months and months of theme park visits and ultimately through daily runs  Ease  Meaning that I wanted it to fold easily and be a stroller that I could easily put in and out of my car without looking like my back was going to give out and I would collapse   Price  I wanted something under 100  I find that the more expensive a stroller is the sleeker it looks a shame that more less expensive strollers arent more attractive  I wanted the look and the quality for under 100  Able to use with a Graco car seat  I knew I did not really want to purchase another combo travel system of any kind really  Canopy  Needed a bigger one to protect from the FL sunSo with these key things in mind I researched for hours upon hours for the last couple months of my pregnancy  I still held off  I wanted to make the right purchase and not settle for another crap stroller that would be a huge disappointment  When my son was a month old I pulled the trigger and purchased the Joovy Scooter Stroller in Greenie  BEST DECISION EVER  We live in Florida  Below the freeze line in FL  an hour south of Tampa on the water  Here is my take on the Pros and Cons of the Joovy  I hope it might help out someone else who is on the fencePROs1  Cost  9999  True it was just one penny shy of my limit I set  But it was under  I had a giftcard from a family member so the stroller really only cost me 4999  A steal2  Assembly  This was almost totally assembled when I received it  It has been about 8 months since I purchased this so my memory may fail me on the exact details of the assemblybut I seem to remember only installing the brake bar and the wheels others may recall more but the fact is that it was super easy overall and I did not need to wait for the assistance of my husband  I noticed right away that I was lacking the right size hub cap for one of the back wheels  This is only a cosmetic feature  It does not in any way mess with how the stroller would function but still I felt that I should call the Joovy customer service to inquire  I dont remember waiting at all on hold  The lady I spoke to was super friendly and practically no questions asked she Fed Exed me a couple of hub caps for free  I got them in a couple of days3  Ease  It does take both hands to fold the stroller up but it is super easy after getting the hang of it  It only took me a couple of tries before I became a pro  No struggling in parking lots looking like the stressed out parent that wants to pull an Office Space on the stroller with a bat  There was an Up All Night episode that dealt with beating a stroller to pieces in a parking lot  I think all of us as parents have been there at one point or another with some piece of baby equipment  It unfolds so easily its ridiculous  I love it  You just pull the handles up and thats that4  Maneuverability  Some people had mentioned that they wish the wheels werent plastic  It is true that they are indeed plastic  But I have never had a problem with them  My stroller feels like its gliding on ice for the most part  Only a couple of times have the wheels gotten stucktangledwhatever  I would not even consider this an issue but felt it was worth a mention at least Seriously in 8 months it may have happened twice  Thats it And this stroller has had a LOT of mileage5  The handles  There seems to be a discussion about the handles being rough  My husband nor I have EVER had an issue with this  The handles are great  We live 1 hour and 15 minutes away from Disney World and had annual passes  We went at least two weekends a month spending 12 hours a day at the parks  We just purchased annual passes to Universal recently and spend just as much time there  We have never received a blister from the handles and never felt that they were rough  They have a nice secure grip making it easy to maneuver through crowds and onehanded love the design of the handles  I am not exaggerating when I say we spend 12 hour days at the parks  The stroller makes it such a breeze  I also wear my baby some in the Ergo Performance in Spring Green also purchased off Amazon the green color is a pretty close match to this stroller for anyone wondering but he really loves this stroller  I also run at the park 5 or 6 times a week with this stroller  No it is not listed as a jogging stroller but it works perfectly for me  I run anywhere from 14 miles at a time each day and have never had an issue  I run mostly with only one hand on the handles and it turns beautifully as I run6  Durability  What can I say  I think Ive already said it all  This stroller has held up wonderfully throughout all of our theme park adventures and through each of my morning runs at the park  I have no complaints7  Looks  I have to say this stroller is beautiful  I adore it  It is sleek modern slim but durable  The Greenie color is GORGEOUS its my favorite color And I can find it easily at the theme parks8  Basket  There is PLENTY of storage underneath in the oversized basket  We can fit a big diaper bag blankets toys a purse and more9  Reclining  The seat reclines very easily  If you recline it as far back as it will go it makes changing diapers easy  When my son is awake and wants to look around I put him in the high back seating position  If he wants to sleep I just recline  Not much to it  Pretty simple and easy10 Car Seat  I had no problems at all attaching our Graco car seat to this stroller when my son was younger no car seat adapter needed  We dont need to do this anymore but it worked great when we did11 Weight  It is still a little heavy but honestly I have no problem lifting it in and out of my Element or my husbands Accord  It folds up nicely and lies pretty flat  Im 55 and 115 lbs  I have no problem lifting this  Its hard to explain without you seeing it in person but the stroller is pretty slim  It is not bulky like most12  Foot brakes  I have never had a problem with my feet hitting the brakes even on all my runs  Neither has my husband he is 6 tall  The brake works great as it should13  Foot Rest  This is a cool feature for the little one14  The CANOPY  The canopy on this is AMAZING  It is super large  I love it  Like Ive already mentioned we are in the FL heat all year long  This canopy is awesome at keeping my little guy protected from too much sun  I also like the clear window I can look through at him which I like to do when I am running to see if he fell asleep or not 15 Extra pockets  There are side pockets for your little one to store extra toys or as I do I put his bottles there and take them out as he needs them  There is also a large zippered pocket on the back of the stroller16  Cup Holder  I rarely use the cup holder as a cup holder  I usually use it to hold my phone as I run but it does have a cup holder17  The fabric  Love it  It has not faded even in the FL sun  It is comfortable for my son and easy for me to wipe up or to shake the sand off as we have lots of beach visits  While I wouldnt consider this the best stroller to push through sand we have done it  We live where the beaches are super soft sand so you have to pop a wheelie with the front wheels being totally air borne to push it through but we have done it several times  Also the rain seems to roll right off the fabric mostly  The fabric comes off for washing too18 Extras  My son LOVES propping his foot up on the bar as we stroll while Im walking or running with him  Also we love the super padded cushions on the buckles for his chest  And this buckles in such a way that would be harder for a toddler to figure out I would think but super easy for parentsCONsI dont have any  The only con is not buying this You cant beat the quality for the money hereThis is my favorite stroller I have ever used  My husband agrees  It is so easy to push along on flat or bumpy surfaces  I recommend this to all of my friends that are having babies  This was my very best purchase this time around  We have been so happy with it and our 9 month old son also seems to enjoy itUPDATE 91412  Im now successfully running over 6 miles at a time with my baby almost 1 year old boy in this stroller I run a minimum of 3 milesday 5 days a week but I have one longer run each week also I love it  The wheels have had a LOT of mileage on them and they have held up quite well so far at some point I might have to replace them as I am constantly upping my mileage  So far in the 14 days in September I have run over 42 miles and walked over 25 miles while pushing this Joovy  I dont understand the rough handles comments at all  Ive never ever had a blister or any complaints about the handles  They work out so well for me when I run because they give me great control mostly I run with only one hand on the handles  Also I get so many compliments on the looks of this stroller\n",
      "\n",
      " most negative:  I loved all the features of the car seat  It is an awesome car seat and you could take it from one car to another and adjust from rearfacing infant to forward facing 4 yo in a minute or two  The features are awesomeI purchased this about a week ago  Although I loved the ease of use for me I was unhappy with my 2 yos posture  regardless of the incline used  I decided to return it  As a PT Im particular about posture  The back of the seat is more curved than out Chicco key fit with the legs slightly elevated and therefore creating a rounded postureI was SHOCKED  when I went to return the item purchased through AMAZON LLC  that I couldnt print a return label  Turns out this is a NON returnable item  Its not that you would even have to pay for the return shipping  you cant return it AT ALL  I even double checked and the vendor was definitely AMAZON  Not an outside VendorAs someone who buys thousands of dollars worth of stuff directly from Amazon I was really surprised  Ive never encountered anything like this and Ive returned things in the past  It is usually very simpleI dont think there was any warning when I bought it that it was non returnable  I definitely cant find any sort of warning on product page nowDouble check with the vendor before you buy this if you think there is even the slightest chance you will want to return it\n"
     ]
    }
   ],
   "source": [
    "print(\"most positive: \", Test.iloc[y_pred_proba.T[1].argmax()][\"review\"])\n",
    "print(\"\\n most negative: \", Test.iloc[y_pred_proba.T[0].argmax()][\"review\"])"
   ]
  },
  {
   "cell_type": "code",
   "execution_count": 50,
   "metadata": {},
   "outputs": [
    {
     "data": {
      "text/plain": [
       "0.869059398518785"
      ]
     },
     "execution_count": 50,
     "metadata": {},
     "output_type": "execute_result"
    }
   ],
   "source": [
    "model2.score(X_test, y_test)"
   ]
  },
  {
   "cell_type": "markdown",
   "metadata": {},
   "source": [
    "#### In this task, I repeated all the operations from the previous tasks, but with a limited set of words. The results are as follows: For a limited set of words, the final result was several points worse, which means a much worse evaluation of the opinions of e.g. customers."
   ]
  },
  {
   "cell_type": "code",
   "execution_count": 51,
   "metadata": {},
   "outputs": [
    {
     "name": "stdout",
     "output_type": "stream",
     "text": [
      "love: 1.3439075578970332\n",
      "great: 0.9329650494541082\n",
      "easy: 1.2021338040291283\n",
      "old: 0.08777808125498429\n",
      "little: 0.5090150069761615\n",
      "perfect: 1.521129431612671\n",
      "loves: 1.706828037752739\n",
      "well: 0.5133242090864254\n",
      "able: 0.2222710410010122\n",
      "car: 0.05890451947624577\n",
      "broke: -1.7132976788988898\n",
      "less: -0.17304222733066404\n",
      "even: -0.5448820509860358\n",
      "waste: -2.0302995245571056\n",
      "disappointed: -2.3258132820958752\n",
      "work: -0.625601827406585\n",
      "product: -0.31062280211003035\n",
      "money: -0.9319705214499334\n",
      "would: -0.34233393217065655\n",
      "return: -2.0484741492654397\n"
     ]
    }
   ],
   "source": [
    "#b)\n",
    "for word, coef in zip(vectorizer.get_feature_names_out(), model2.coef_[0]):\n",
    "    print(f\"{word}: {coef}\")"
   ]
  },
  {
   "cell_type": "code",
   "execution_count": 52,
   "metadata": {},
   "outputs": [],
   "source": [
    "import sys, time"
   ]
  },
  {
   "cell_type": "code",
   "execution_count": 53,
   "metadata": {},
   "outputs": [
    {
     "name": "stdout",
     "output_type": "stream",
     "text": [
      "4.78 ms ± 534 µs per loop (mean ± std. dev. of 7 runs, 100 loops each)\n",
      "CPU times: user 3.84 s, sys: 12.9 ms, total: 3.85 s\n",
      "Wall time: 3.85 s\n"
     ]
    }
   ],
   "source": [
    "%%time\n",
    "%%timeit\n",
    "model.predict(temp_X_test)"
   ]
  },
  {
   "cell_type": "code",
   "execution_count": 54,
   "metadata": {},
   "outputs": [
    {
     "name": "stdout",
     "output_type": "stream",
     "text": [
      "559 µs ± 25 µs per loop (mean ± std. dev. of 7 runs, 1000 loops each)\n",
      "CPU times: user 4.6 s, sys: 0 ns, total: 4.6 s\n",
      "Wall time: 4.6 s\n"
     ]
    }
   ],
   "source": [
    "%%time\n",
    "%%timeit\n",
    "model2.predict(X_test)"
   ]
  },
  {
   "cell_type": "markdown",
   "metadata": {},
   "source": [
    "#### Finally, I checked how certain words affect the grade and compared the time of both solutions and it turned out that with a smaller array the solution is several percent worse, but it is over 8 times faster"
   ]
  }
 ],
 "metadata": {
  "anaconda-cloud": {},
  "kernelspec": {
   "display_name": "Python 3 (ipykernel)",
   "language": "python",
   "name": "python3"
  },
  "language_info": {
   "codemirror_mode": {
    "name": "ipython",
    "version": 3
   },
   "file_extension": ".py",
   "mimetype": "text/x-python",
   "name": "python",
   "nbconvert_exporter": "python",
   "pygments_lexer": "ipython3",
   "version": "3.10.12"
  }
 },
 "nbformat": 4,
 "nbformat_minor": 4
}
